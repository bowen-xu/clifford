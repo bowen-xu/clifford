{
 "cells": [
  {
   "cell_type": "markdown",
   "metadata": {
    "deletable": true,
    "editable": true
   },
   "source": [
    "#STM Analysis\n",
    "### Date: 2016-11-??\n",
    "### Author: Gerardo Salazar"
   ]
  },
  {
   "cell_type": "markdown",
   "metadata": {
    "deletable": true,
    "editable": true
   },
   "source": [
    "##Company Summary\n",
    "###Excerpt From [Reuters](http://www.reuters.com/finance/stocks/companyProfile?rpc=66&symbol=STM)\n",
    "STMicroelectronics N.V., incorporated on May 21, 1987, is a global semiconductor company. The Company is focused on Smart Driving, enabled by digitalization and electrification of the car, and the Internet of Things, including portable and wearable systems, as well as smart home, city and industry applications. The Company's segments include Automotive and Discrete Group (ADG), Analog and MEMS Group (AMG), Microcontrollers and Digital ICs Group (MDG), and Others."
   ]
  },
  {
   "cell_type": "markdown",
   "metadata": {
    "deletable": true,
    "editable": true
   },
   "source": [
    "##Company Statistics (Last 4 Years)"
   ]
  },
  {
   "cell_type": "code",
   "execution_count": null,
   "metadata": {
    "collapsed": false,
    "deletable": true,
    "editable": true
   },
   "outputs": [],
   "source": [
    "import pandas\n",
    "import numpy as np\n",
    "import seaborn as sb\n",
    "import matplotlib.pyplot as plt\n",
    "import matplotlib\n",
    "\n",
    "from quantopian.pipeline.data import morningstar\n",
    "\n",
    "\n",
    "fundamentals = init_fundamentals()\n",
    "\n",
    "fund_df = get_fundamentals(\n",
    "            query(\n",
    "                fundamentals.valuation.market_cap,\n",
    "                fundamentals.valuation.enterprise_value,\n",
    "                fundamentals.income_statement.total_revenue,\n",
    "                fundamentals.income_statement.total_expenses\n",
    "            ), '2017-06-28', '4q')\n",
    "\n",
    "STM_data = fund_df.minor_xs(symbols('STM'))\n",
    "STM_data['market_cap'] = STM_data['market_cap'].apply(np.int64)\n",
    "STM_data['enterprise_value'] = STM_data['enterprise_value'].apply(np.int64)\n",
    "STM_data['total_revenue'] = STM_data['total_revenue'].apply(np.int64)\n",
    "STM_data['total_expenses'] = STM_data['total_expenses'].apply(np.int64)"
   ]
  },
  {
   "cell_type": "code",
   "execution_count": null,
   "metadata": {
    "collapsed": false,
    "deletable": true,
    "editable": true
   },
   "outputs": [],
   "source": [
    "STM_data.plot(title='STM Fundamentals', logy=True)"
   ]
  },
  {
   "cell_type": "markdown",
   "metadata": {
    "deletable": true,
    "editable": true
   },
   "source": [
    "* For the last 3 years, __STM__'s market cap has been stuck in the __\\$6.0B - $8.5B__ range. \n",
    "* Enterprise value has shot up __56.448271223%__ since __2016-11-04__. \n",
    "* Revenue increased __3.505843072%__ and expenses increased __1.01171646163%__ from the previous quarter.\n",
    "* Expenses have been on a downwards trend since __2013__, but is now in an upwards trend since the start of __2016__\n",
    "* Total revenue is also in an upwards trend"
   ]
  },
  {
   "cell_type": "markdown",
   "metadata": {
    "deletable": true,
    "editable": true
   },
   "source": [
    "##Historical Analysis\n"
   ]
  },
  {
   "cell_type": "code",
   "execution_count": null,
   "metadata": {
    "collapsed": false,
    "deletable": true,
    "editable": true
   },
   "outputs": [],
   "source": [
    "history_ev = fund_df.loc['enterprise_value']\n",
    "security_interest = []\n",
    "security_index = []\n",
    "\n",
    "security_statistics = []\n",
    "\n",
    "# The way this loop works is that it loops the enterprise_value column. Since market_cap and enterprise_value\n",
    "# have the same amount of columns, we can reference any other value we want through that. Because of that, we\n",
    "# only need to have 1 loop instead \n",
    "for ev in history_ev:\n",
    "    # security_ev stores the entire history of 1 security. Every time it iterates, it jumps to\n",
    "    # another security\n",
    "    security_ev = history_ev[ev]\n",
    "    \n",
    "    # Start another for loop to iterate through the data each security holds\n",
    "    for index, ev_security_data in enumerate(security_ev):\n",
    "        if np.isnan(ev_security_data) or index == 0 or index > 14 or np.isnan(security_ev.values[-1]):\n",
    "            # we don't want incomplete data in this dataset\n",
    "            # we also can't compare the first value to the one before it, so let's skip\n",
    "            # we also don't want values from the last 2 quarters so we can see how well these stocks did\n",
    "            # we also don't want stocks that have NaN values 2 quarters after the current\n",
    "            continue\n",
    "            \n",
    "        previous_ev = security_ev.values[index - 1]\n",
    "        current_ev = security_ev.values[index]\n",
    "        \n",
    "        previous_cap = fund_df.loc['market_cap'][ev].values[index - 1]\n",
    "        current_cap = fund_df.loc['market_cap'][ev].values[index]\n",
    "        \n",
    "        ev_delta_pct = (current_ev - previous_ev) / previous_ev\n",
    "        cap_delta_pct = (current_cap - previous_cap) / previous_cap\n",
    "        \n",
    "        if (cap_delta_pct > 0.52 and cap_delta_pct < 0.58) and (ev_delta_pct > 0.52 and ev_delta_pct < 0.58):\n",
    "            security_interest.append(ev)\n",
    "            security_index.append(index - 1)\n",
    "            break\n",
    "\n",
    "for sec_index, security in enumerate(security_interest):\n",
    "    security_history = fund_df.minor_xs(security)\n",
    "    sec_mc = security_history['market_cap']\n",
    "    \n",
    "    temp_mean_list = []\n",
    "    lowest_point = None\n",
    "    highest_point = None\n",
    "    \n",
    "    for index, mc_history in enumerate(sec_mc):\n",
    "        if index == security_index[sec_index]:\n",
    "            starting_point = security_history.iloc[index]['market_cap']\n",
    "\n",
    "            sec_plot = security_history.plot(title=security.symbol, logy=True)\n",
    "            startcoords = (security_history.index[index], security_history.iloc[index]['market_cap'] * 1.05)\n",
    "            endcoords = (security_history.index[index + 1], security_history.iloc[index + 1]['market_cap'] * 1.05)\n",
    "            dateasnum = matplotlib.dates.date2num(security_history.index[index])\n",
    "            \n",
    "            sec_plot.annotate(\n",
    "                'Start',\n",
    "                xy=startcoords,\n",
    "                xytext=(dateasnum + 30, startcoords[1]*1.3),\n",
    "                arrowprops=dict(arrowstyle=\"fancy\", connectionstyle=\"arc3, rad=0.3\", fc=\"k\"),\n",
    "                bbox=dict(boxstyle=\"round\", fc=\"#DDDDDD\")\n",
    "            )\n",
    "            sec_plot.annotate(\n",
    "                'End',\n",
    "                xy=endcoords,\n",
    "                xytext=(dateasnum + 30, endcoords[1]*1.3),\n",
    "                arrowprops=dict(arrowstyle=\"fancy\", connectionstyle=\"arc3, rad=0.3\", fc=\"k\"),\n",
    "                bbox=dict(boxstyle=\"round\", fc=\"#DDDDDD\")\n",
    "            )\n",
    "            \n",
    "            sec_plot\n",
    "            \n",
    "            for quarter in range(0, len(sec_mc) - index):\n",
    "                ending_point = None\n",
    "                temp_mean_list.append(security_history.iloc[index + quarter]['market_cap'])\n",
    "                if quarter == 0:\n",
    "                    lowest_point = temp_mean_list[quarter]\n",
    "                    highest_point = temp_mean_list[quarter]\n",
    "                    \n",
    "                if quarter >= 1:\n",
    "                    if temp_mean_list[quarter] > highest_point:\n",
    "                        highest_point = temp_mean_list[quarter]\n",
    "                    \n",
    "                    if temp_mean_list[quarter] < lowest_point:\n",
    "                        lowest_point = temp_mean_list[quarter]\n",
    "\n",
    "                if quarter == (len(sec_mc) - index) - 1:\n",
    "                    ending_point = security_history.iloc[-1]['market_cap']\n",
    "                    \n",
    "                    security_statistics.append(\n",
    "                        [\n",
    "                            security,\n",
    "                            np.mean(temp_mean_list),\n",
    "                            lowest_point,\n",
    "                            highest_point,\n",
    "                            starting_point,\n",
    "                            ending_point\n",
    "                        ]\n",
    "                    )\n",
    "                    break\n",
    "                    \n",
    "                # we will analyze 6 quarters after the growth period and append it to our growth variable\n",
    "                # we will store the variables in the following order:\n",
    "                # security, mean, lowest, max, start, end"
   ]
  },
  {
   "cell_type": "markdown",
   "metadata": {
    "collapsed": true,
    "deletable": true,
    "editable": true
   },
   "source": [
    "###Quantitative Analysis and Finding Out If Works"
   ]
  },
  {
   "cell_type": "markdown",
   "metadata": {
    "collapsed": true,
    "deletable": true,
    "editable": true
   },
   "source": [
    "I have created a lot of charts that have similar patterns to the ones seen in __STM__. <br />\n",
    "There you can see the growth of these companies after the period that matches __STM__."
   ]
  },
  {
   "cell_type": "code",
   "execution_count": null,
   "metadata": {
    "collapsed": false,
    "deletable": true,
    "editable": true
   },
   "outputs": [],
   "source": [
    "security_statistics"
   ]
  },
  {
   "cell_type": "code",
   "execution_count": null,
   "metadata": {
    "collapsed": false,
    "deletable": true,
    "editable": true
   },
   "outputs": [],
   "source": [
    "win_count = 0\n",
    "lose_count = 0\n",
    "\n",
    "for index, stat_vals in enumerate(security_statistics):\n",
    "    if stat_vals[4] < stat_vals[5]:\n",
    "        win_count += 1\n",
    "    else:\n",
    "        lose_count += 1\n",
    "\n",
    "print(len(security_statistics))\n",
    "print(win_count)\n",
    "print(lose_count)\n",
    "print(\"Win Percentage is: {}\".format((float(win_count) / float(len(security_statistics))) * 100.0))\n",
    "print(\"Lose Percentage is: {}\".format((float(lose_count) / float(len(security_statistics))) * 100.0)"
   ]
  },
  {
   "cell_type": "code",
   "execution_count": null,
   "metadata": {
    "collapsed": true,
    "deletable": true,
    "editable": true
   },
   "outputs": [],
   "source": []
  }
 ],
 "metadata": {
  "kernelspec": {
   "display_name": "Python 2",
   "language": "python",
   "name": "python2"
  },
  "language_info": {
   "codemirror_mode": {
    "name": "ipython",
    "version": 2
   },
   "file_extension": ".py",
   "mimetype": "text/x-python",
   "name": "python",
   "nbconvert_exporter": "python",
   "pygments_lexer": "ipython2",
   "version": "2.7.12"
  }
 },
 "nbformat": 4,
 "nbformat_minor": 0
}