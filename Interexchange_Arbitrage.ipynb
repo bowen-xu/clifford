{
 "cells": [
  {
   "cell_type": "markdown",
   "metadata": {},
   "source": [
    "# **Interexchange Arbitrage** - Version 2.0\n",
    "#### Author: Gerardo Salazar\n",
    "### **Introduction:**\n",
    "Given a situation from `a -> b -> c`, how do you calculate arbitrage opportunities where `a > c` and `c > a` in an instantly tradable market?\n",
    "\n",
    "For the sake of this example, let's say: <br />\n",
    "$a = 1000.00\\text{ USD/Bitcoin}$,<br />\n",
    "$b = 0.1\\text{ Bitcoin/Ethereum}$, <br />\n",
    "$c = 95.00\\text{ USD/Ethereum}$\n",
    "\n",
    "You could then buy $10c$ units, exchange them for $1a$ units, and sell it off for a net profit of $\\$50\\text{ USD}$.\n",
    "\n",
    "We propose the following naive equations to determine profitability in a triangle arbitragable pair, $a, b, c$ in both directions (i.e. `c -> b -> a` and `a -> b -> c`)\n",
    "\n",
    "$\\pi = a_\\beta - \\left( \\frac{c_\\alpha}{b_\\beta} \\right)\\text{ when a > c, therefore:}$ `c -> b -> a` <br />\n",
    "$\\tau = c_\\beta - \\left( a_\\alpha b_\\alpha \\right)\\text { when c > a, therefore:}$ `a -> b -> c`\n",
    "\n",
    "**NOTE:** $\\alpha =$ `ask` and $\\beta = $ `bid`\n",
    "\n",
    "However, this does not take into account for transaction fees. Imagine a $0.25\\%$ transaction fee per trade made. We require a minimum of 3 total trades in order to complete the transaction. Say we purchase $10c$ - that will run us $10c + (10c * f)$ in total. We have to figure out how to include order quantity into the equation.\n",
    "\n",
    "Long form:\n",
    "\n",
    "#### $\\pi = \\left( a_\\beta - \\frac{c_\\alpha}{b_\\beta} \\right) - \\left( a_\\beta \\nu + \\left( a_\\beta b_\\beta \\nu \\right) \\times \\frac{a_\\beta}{a_\\beta b_\\beta} + \\frac{c_\\alpha}{b_\\beta} \\nu \\right)$\n",
    "#### $\\tau = \\left( c_\\beta - a_\\alpha b_\\alpha \\right) - \\left( c_\\beta \\nu + \\left( c_\\beta b_\\alpha \\nu \\right) \\times \\frac{c_\\beta}{c_\\beta b_\\alpha} + b_\\alpha a_\\alpha \\nu \\right)$\n",
    "\n",
    "Simplified (thanks to wolfram alpha), the equations are:\n",
    "\n",
    "#### $\\pi = \\frac{-2 a_\\beta b_\\beta \\nu + a_\\beta b_\\beta - c_\\alpha \\nu - c_\\alpha}{b_\\beta}$\n",
    "#### $\\tau = -a_\\alpha b_\\alpha \\nu - a_\\alpha b_\\alpha - 2 c_\\beta \\nu + c_\\beta$\n",
    "\n",
    "These calculations merely lets you see if the pair you are analyzing is profitable, given a certain fee. It does not determine order size, nor maximum capacity per arbitrage attempt. We will define those equations in the next section.\n",
    "\n",
    "#### **TODO**"
   ]
  },
  {
   "cell_type": "code",
   "execution_count": 2,
   "metadata": {},
   "outputs": [],
   "source": [
    "pi = lambda a, b, c, vu: ((-2 * a * b * vu) + (a * b) - (c * vu) - c) / b\n",
    "tau = lambda a,b, c, vu: (-a * b * vu) - (a * b) - (2 * c * vu) + c"
   ]
  },
  {
   "cell_type": "code",
   "execution_count": 19,
   "metadata": {},
   "outputs": [
    {
     "data": {
      "text/plain": [
       "50.0"
      ]
     },
     "execution_count": 19,
     "metadata": {},
     "output_type": "execute_result"
    }
   ],
   "source": [
    "# Demonstrate the example in the introduction using our equation\n",
    "pi(1000.00, 0.1, 95.00, 0.00)"
   ]
  },
  {
   "cell_type": "code",
   "execution_count": 20,
   "metadata": {},
   "outputs": [
    {
     "data": {
      "text/plain": [
       "-3.366990480000089e-08"
      ]
     },
     "execution_count": 20,
     "metadata": {},
     "output_type": "execute_result"
    }
   ],
   "source": [
    "# Real sample of exchange rates on Binance\n",
    "tau(0.077566, 0.00012280, 0.00000952, 0.0010)"
   ]
  }
 ],
 "metadata": {
  "kernelspec": {
   "display_name": "Python 3",
   "language": "python",
   "name": "python3"
  },
  "language_info": {
   "codemirror_mode": {
    "name": "ipython",
    "version": 3
   },
   "file_extension": ".py",
   "mimetype": "text/x-python",
   "name": "python",
   "nbconvert_exporter": "python",
   "pygments_lexer": "ipython3",
   "version": "3.5.2"
  }
 },
 "nbformat": 4,
 "nbformat_minor": 2
}
